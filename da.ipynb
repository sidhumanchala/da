{
  "metadata": {
    "kernelspec": {
      "name": "python",
      "display_name": "Python (Pyodide)",
      "language": "python"
    },
    "language_info": {
      "codemirror_mode": {
        "name": "python",
        "version": 3
      },
      "file_extension": ".py",
      "mimetype": "text/x-python",
      "name": "python",
      "nbconvert_exporter": "python",
      "pygments_lexer": "ipython3",
      "version": "3.8"
    }
  },
  "nbformat_minor": 4,
  "nbformat": 4,
  "cells": [
    {
      "cell_type": "code",
      "source": "import numpy as np\n\n# Given array\noriginal_array = np.array([1, 2, 3,4])\n\n# Number of times to repeat\nrepeat_times = 3\n\n# Constructing the array by repeating the given array\nconstructed_array = np.tile(original_array, repeat_times)\n\nprint(\"Original Array:\", original_array)\nprint(\"Constructed Array:\", constructed_array)\n",
      "metadata": {
        "trusted": true
      },
      "outputs": [
        {
          "name": "stdout",
          "text": "Original Array: [1 2 3 4]\nConstructed Array: [1 2 3 4 1 2 3 4 1 2 3 4]\n",
          "output_type": "stream"
        }
      ],
      "execution_count": 2
    },
    {
      "cell_type": "code",
      "source": "import numpy as np\narray = np.array(['Python', 'PHP', 'JS', 'examples', 'html'])\nlowercase_array = np.char.lower(array)\ncount_p = np.char.count(lowercase_array, 'p')\nprint(\"Original Array:\")\nprint(array)\nprint(\"Number of 'p':\")\nprint(count_p)",
      "metadata": {
        "trusted": true
      },
      "outputs": [
        {
          "name": "stdout",
          "text": "Original Array:\n['Python' 'PHP' 'JS' 'examples' 'html']\nNumber of 'p':\n[1 2 0 1 0]\n",
          "output_type": "stream"
        }
      ],
      "execution_count": 5
    },
    {
      "cell_type": "code",
      "source": "import numpy as np\n\n# Create an array\narray = np.array([[1, 2, 3],\n                  [4, 5, 6],\n                  [7, 8, 9]])\n\n# Compute mean along the second axis\nmean = np.mean(array, axis=1)\n\n# Compute standard deviation along the second axis\nstd_deviation = np.std(array, axis=1)\n\n# Compute variance along the second axis\nvariance = np.var(array, axis=1)\n\nprint(\"Array:\")\nprint(array)\nprint(\"Mean along the second axis:\")\nprint(mean)\nprint(\"Standard deviation along the second axis:\")\nprint(std_deviation)\nprint(\"Variance along the second axis:\")\nprint(variance)",
      "metadata": {
        "trusted": true
      },
      "outputs": [
        {
          "name": "stdout",
          "text": "Array:\n[[1 2 3]\n [4 5 6]\n [7 8 9]]\nMean along the second axis:\n[2. 5. 8.]\nStandard deviation along the second axis:\n[0.81649658 0.81649658 0.81649658]\nVariance along the second axis:\n[0.66666667 0.66666667 0.66666667]\n",
          "output_type": "stream"
        }
      ],
      "execution_count": 6
    },
    {
      "cell_type": "code",
      "source": "import numpy as np\n\n# Sample arrays (corrected)\narray1 = np.array([[0, 1, 3],\n                   [5, 7, 9]])\n\narray2 = np.array([[0, 2, 4],\n                   [6, 8, 10]])\n\n# Concatenate arrays and reshape them to match the expected output\nresult = np.concatenate((array1, array2), axis=1).reshape(2, -1)\n\nprint(\"Concatenated array:\")\nprint(result)",
      "metadata": {
        "trusted": true
      },
      "outputs": [
        {
          "name": "stdout",
          "text": "Concatenated array:\n[[ 0  1  3  0  2  4]\n [ 5  7  9  6  8 10]]\n",
          "output_type": "stream"
        }
      ],
      "execution_count": 7
    },
    {
      "cell_type": "code",
      "source": "import numpy as np\n\n# Create sample arrays\na = np.array([1, 2, 3, 4])\nb = np.array([5, 6, 7, 8])\n\n# Arithmetic operations\nprint(\"Addition:\", np.add(a, b))\nprint(\"Subtraction:\", np.subtract(a, b))\nprint(\"Multiplication:\", np.multiply(a, b))\nprint(\"Division:\", np.divide(a, b))\n\n# Trigonometric functions\nangles = np.array([0, np.pi/2, np.pi])\nprint(\"Sine:\", np.sin(angles))\nprint(\"Cosine:\", np.cos(angles))\nprint(\"Tangent:\", np.tan(angles))\n\n# Exponential and logarithmic functions\nprint(\"Exponential:\", np.exp(a))\nprint(\"Natural logarithm:\", np.log(a))\nprint(\"Base 10 logarithm:\", np.log10(a))\n\n# Other ufuncs\nprint(\"Square root:\", np.sqrt(a))\nprint(\"Absolute values:\", np.absolute([-1, -2, 3, -4]))\nprint(\"Rounding:\", np.round([1.2,2.5,3.7]))",
      "metadata": {
        "trusted": true
      },
      "outputs": [
        {
          "name": "stdout",
          "text": "Addition: [ 6  8 10 12]\nSubtraction: [-4 -4 -4 -4]\nMultiplication: [ 5 12 21 32]\nDivision: [0.2        0.33333333 0.42857143 0.5       ]\nSine: [0.0000000e+00 1.0000000e+00 1.2246468e-16]\nCosine: [ 1.000000e+00  6.123234e-17 -1.000000e+00]\nTangent: [ 0.00000000e+00  1.63312394e+16 -1.22464680e-16]\nExponential: [ 2.71828183  7.3890561  20.08553692 54.59815003]\nNatural logarithm: [0.         0.69314718 1.09861229 1.38629436]\nBase 10 logarithm: [0.         0.30103    0.47712125 0.60205999]\nSquare root: [1.         1.41421356 1.73205081 2.        ]\nAbsolute values: [1 2 3 4]\nRounding: [1. 2. 4.]\n",
          "output_type": "stream"
        }
      ],
      "execution_count": 10
    },
    {
      "cell_type": "code",
      "source": "import numpy as np\n\n# Create a vector with values from 0 to 20\nvector = np.arange(21)\n\n# Change the sign of numbers in the range from 9 to 15\nvector[9:16] *= -1\n\nprint(\"Original vector:\")\nprint(vector)",
      "metadata": {
        "trusted": true
      },
      "outputs": [
        {
          "name": "stdout",
          "text": "Original vector:\n[  0   1   2   3   4   5   6   7   8  -9 -10 -11 -12 -13 -14 -15  16  17\n  18  19  20]\n",
          "output_type": "stream"
        }
      ],
      "execution_count": 11
    },
    {
      "cell_type": "code",
      "source": "import numpy as np\n\n# Given array\narray = np.array([[1, 2, 3],\n                  [4, 5, 6],\n                  [7, 8, 9]])\n\n# Sum of all elements\ntotal_sum = np.sum(array)\n\n# Sum of each column\ncolumn_sum = np.sum(array, axis=0)\n\n# Sum of each row\nrow_sum = np.sum(array, axis=1)\n\nprint(\"Given array:\")\nprint(array)\nprint(\"Sum of all elements:\",total_sum)\nprint(\"Sum of each column:\",column_sum)\nprint(\"Sum of each row:\",row_sum)",
      "metadata": {
        "trusted": true
      },
      "outputs": [
        {
          "name": "stdout",
          "text": "Given array:\n[[1 2 3]\n [4 5 6]\n [7 8 9]]\nSum of all elements: 45\nSum of each column: [12 15 18]\nSum of each row: [ 6 15 24]\n",
          "output_type": "stream"
        }
      ],
      "execution_count": 13
    },
    {
      "cell_type": "code",
      "source": "import numpy as np\n\n# Define two arrays\narray1 = np.array([1, 2, 3, 4, 5])\narray2 = np.array([4, 5, 6, 7, 8])\n\n# Union\nunion = np.union1d(array1, array2)\n\n# Intersection\nintersection = np.intersect1d(array1, array2)\n\n# Difference (elements in array1 but not in array2)\ndifference = np.setdiff1d(array1, array2)\n\n# Symmetric difference (elements that are in either of the arrays but not in both)\nsymmetric_difference = np.setxor1d(array1, array2)\n\nprint(\"Array 1:\", array1)\nprint(\"Array 2:\", array2)\nprint(\"Union:\", union)\nprint(\"Intersection:\", intersection)\nprint(\"Difference (array1 - array2):\", difference)\nprint(\"Symmetric Difference:\", symmetric_difference)",
      "metadata": {
        "trusted": true
      },
      "outputs": [
        {
          "name": "stdout",
          "text": "Array 1: [1 2 3 4 5]\nArray 2: [4 5 6 7 8]\nUnion: [1 2 3 4 5 6 7 8]\nIntersection: [4 5]\nDifference (array1 - array2): [1 2 3]\nSymmetric Difference: [1 2 3 6 7 8]\n",
          "output_type": "stream"
        }
      ],
      "execution_count": 14
    },
    {
      "cell_type": "code",
      "source": "How to create a series from a list, numpy array and dict?",
      "metadata": {
        "trusted": true
      },
      "outputs": [
        {
          "name": "stdout",
          "text": "\u001b[0;31mInit signature:\u001b[0m \u001b[0mdict\u001b[0m\u001b[0;34m(\u001b[0m\u001b[0mself\u001b[0m\u001b[0;34m,\u001b[0m \u001b[0;34m/\u001b[0m\u001b[0;34m,\u001b[0m \u001b[0;34m*\u001b[0m\u001b[0margs\u001b[0m\u001b[0;34m,\u001b[0m \u001b[0;34m**\u001b[0m\u001b[0mkwargs\u001b[0m\u001b[0;34m)\u001b[0m\u001b[0;34m\u001b[0m\u001b[0;34m\u001b[0m\u001b[0m\n\u001b[0;31mDocstring:\u001b[0m     \ndict() -> new empty dictionary\ndict(mapping) -> new dictionary initialized from a mapping object's\n    (key, value) pairs\ndict(iterable) -> new dictionary initialized as if via:\n    d = {}\n    for k, v in iterable:\n        d[k] = v\ndict(**kwargs) -> new dictionary initialized with the name=value pairs\n    in the keyword argument list.  For example:  dict(one=1, two=2)\n\u001b[0;31mType:\u001b[0m           type\n\u001b[0;31mSubclasses:\u001b[0m     OrderedDict, defaultdict, Counter, _EnumDict, _Quoter, _QByteMap, SelectableGroups, _Meta_1_0, _Meta_1_1, _OptionalProjectFileDetails_1_0, ...\n",
          "output_type": "stream"
        }
      ],
      "execution_count": 15
    },
    {
      "cell_type": "code",
      "source": "import pandas as pd\nimport numpy as np\n\nmy_array = np.array([10, 20, 30, 40, 50])\nseries_from_array = pd.Series(my_array)\nprint(\"Series from NumPy array:\")\nprint(series_from_array)\n\nmy_dict = {'a': 10, 'b': 20, 'c': 30, 'd': 40, 'e': 50}\nseries_from_dict = pd.Series(my_dict)\nprint(\"Series from dictionary:\")\nprint(series_from_dict)\n\nmy_list = [10, 20, 30, 40, 50]\nseries_from_list = pd.Series(my_list)\nprint(\"Series from list:\")\nprint(series_from_list)\n",
      "metadata": {
        "trusted": true
      },
      "outputs": [
        {
          "name": "stdout",
          "text": "Series from NumPy array:\n0    10\n1    20\n2    30\n3    40\n4    50\ndtype: int32\nSeries from dictionary:\na    10\nb    20\nc    30\nd    40\ne    50\ndtype: int64\nSeries from list:\n0    10\n1    20\n2    30\n3    40\n4    50\ndtype: int64\n",
          "output_type": "stream"
        }
      ],
      "execution_count": 16
    },
    {
      "cell_type": "code",
      "source": "import numpy as np\n\n# Create an identity array\nidentity_array = np.identity(3)  # Create a 3x3 identity array\nprint(\"Identity Array:\")\nprint(identity_array)\n\n# Create a diagonal array\ndiagonal_array = np.diag([1, 2, 3, 4])  # Create a diagonal array with the specified diagonal elements\nprint(\"\\nDiagonal Array:\")\nprint(diagonal_array)",
      "metadata": {
        "trusted": true
      },
      "outputs": [
        {
          "name": "stdout",
          "text": "Identity Array:\n[[1. 0. 0.]\n [0. 1. 0.]\n [0. 0. 1.]]\n\nDiagonal Array:\n[[1 0 0 0]\n [0 2 0 0]\n [0 0 3 0]\n [0 0 0 4]]\n",
          "output_type": "stream"
        }
      ],
      "execution_count": 17
    },
    {
      "cell_type": "code",
      "source": "import numpy as np\n\n# Create a 2D array\narr = np.array([[1, 2, 3],\n                [4, 5, 6],\n                [7, 8, 9]])\n\n# Basic slicing: extracting a subarray\nsubarr = arr[0:2, 1:3]  # Rows 0 to 1, Columns 1 to 2\nprint(\"Subarray:\")\nprint(subarr)\n\n# Slicing with steps\nsubarr_step = arr[::2, ::2]  # Every other row, every other column\nprint(\"\\nSubarray with steps:\")\nprint(subarr_step)\n\n# Slicing to extract a column\ncolumn = arr[:, 1]  # All rows, column 1\nprint(\"\\nColumn:\")\nprint(column)\n\n# Slicing to extract a row\nrow = arr[1, :]  # Row 1, all columns\nprint(\"\\nRow:\")\nprint(row)",
      "metadata": {
        "trusted": true
      },
      "outputs": [
        {
          "name": "stdout",
          "text": "Subarray:\n[[2 3]\n [5 6]]\n\nSubarray with steps:\n[[1 3]\n [7 9]]\n\nColumn:\n[2 5 8]\n\nRow:\n[4 5 6]\n",
          "output_type": "stream"
        }
      ],
      "execution_count": 18
    },
    {
      "cell_type": "code",
      "source": "import numpy as np\n\n# Create sample arrays\narray1 = np.array([[1, 2, 3],\n                    [4, 5, 6]])\n\narray2 = np.array([[7, 8, 9],\n                    [10, 11, 12]])\n\n# Joining along an existing axis (axis=1, columns)\njoined_array = np.concatenate((array1, array2), axis=1)\n\n# Stacking to create a new axis (axis=0, new rows)\nstacked_array = np.stack((array1, array2))\n\nprint(\"Array 1:\")\nprint(array1)\nprint(\"\\nArray 2:\")\nprint(array2)\nprint(\"\\nJoined array:\")\nprint(joined_array)\nprint(\"\\nStacked array:\")\nprint(stacked_array)",
      "metadata": {
        "trusted": true
      },
      "outputs": [
        {
          "name": "stdout",
          "text": "Array 1:\n[[1 2 3]\n [4 5 6]]\n\nArray 2:\n[[ 7  8  9]\n [10 11 12]]\n\nJoined array:\n[[ 1  2  3  7  8  9]\n [ 4  5  6 10 11 12]]\n\nStacked array:\n[[[ 1  2  3]\n  [ 4  5  6]]\n\n [[ 7  8  9]\n  [10 11 12]]]\n",
          "output_type": "stream"
        }
      ],
      "execution_count": 19
    },
    {
      "cell_type": "code",
      "source": "",
      "metadata": {
        "trusted": true
      },
      "outputs": [],
      "execution_count": null
    },
    {
      "cell_type": "code",
      "source": "",
      "metadata": {
        "trusted": true
      },
      "outputs": [],
      "execution_count": null
    }
  ]
}